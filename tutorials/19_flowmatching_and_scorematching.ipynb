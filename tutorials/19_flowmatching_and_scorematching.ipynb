{
 "cells": [
  {
   "cell_type": "markdown",
   "metadata": {},
   "source": [
    "# Flow-Matching Posterior Estimation (FMPE) and Neural Posterior Score Estimation (NPSE)\n",
    "\n",
    "`sbi` also incorporates recent algorithms based on Flow Matching and Score Matching generative models, which are also referred to as Continuous Normalizing Flows (CNF) and Denoising Diffusion Probabilistic Models (DDPM), respectively.\n",
    "\n",
    "At the highest level, you can conceptualize FMPE and NPSE as tackling the exact same problem as NPE, i.e., estimating the posterior from simulations, but replacing Normalizing Flows with different conditional density estimators. \n",
    "\n",
    "Flow Matching and Score Matching, as generative models, are also quite similar to Normalizing Flows, where a deep neural network parameterizes the transformation from a base distribution (e.g., Gaussian) to a more complex one that approximates the target density, but they differ in what this transformation looks like (more on that below). \n",
    "\n",
    "Beyond that, Flow Matching and Score Matching offer different benefits and drawbacks compared to Normalizing Flows, which make them better (or worse) choices for some problems. For examples, Score Matching (Diffusion Models) are known to be very flexible and can model high-dimensional distributions, but are comparatively slow during sampling.\n",
    "\n",
    "In this tutorial, we take a brief look at the API for `FMPE` and `NPSE`, their pros and cons, as well as highlight some notable options.\n",
    "\n",
    "For more information, see:\n",
    "\n",
    "**Score Matching**:\n",
    "- Hyvärinen, A. \"Estimation of Non-Normalized Statistical Models by Score Matching.\" JMLR 2005.\n",
    "- Song, Y., et al. \"Score-Based Generative Modeling through Stochastic Differential Equations.\" ICLR 2021.\n",
    "- Geffner, T., Papamakarios, G., and Mnih, A. \"Score modeling for simulation-based inference.\" NeurIPS 2022 Workshop on Score-Based Methods. 2022.\n",
    "- Sharrock, L., Simons, J., et al. \"Sequential neural score estimation: Likelihood-free inference with conditional score based diffusion models.\" ICML 2024.\n",
    "\n",
    "**Flow Matching**:\n",
    "- Lipman, Y., et al. \"Flow Matching for Generative Modeling.\" ICLR 2023\n",
    "- Wildberger, J.B.,  Buchholz, S., et al. \"Flow Matching for Scalable Simulation-Based Inference.\" NeurIPS 2023."
   ]
  },
  {
   "cell_type": "code",
   "execution_count": 2,
   "metadata": {},
   "outputs": [
    {
     "name": "stdout",
     "output_type": "stream",
     "text": [
      "Collecting sbi\n",
      "  Downloading sbi-0.23.3-py3-none-any.whl.metadata (13 kB)\n",
      "Collecting arviz (from sbi)\n",
      "  Using cached arviz-0.20.0-py3-none-any.whl.metadata (8.8 kB)\n",
      "Requirement already satisfied: joblib>=1.0.0 in /opt/anaconda3/lib/python3.12/site-packages (from sbi) (1.4.2)\n",
      "Requirement already satisfied: matplotlib in /opt/anaconda3/lib/python3.12/site-packages (from sbi) (3.9.2)\n",
      "Collecting notebook<=6.4.12 (from sbi)\n",
      "  Downloading notebook-6.4.12-py3-none-any.whl.metadata (2.5 kB)\n",
      "Requirement already satisfied: numpy<2.0.0 in /opt/anaconda3/lib/python3.12/site-packages (from sbi) (1.26.4)\n",
      "Requirement already satisfied: pillow in /opt/anaconda3/lib/python3.12/site-packages (from sbi) (10.4.0)\n",
      "Collecting pyknos>=0.16.0 (from sbi)\n",
      "  Using cached pyknos-0.16.0-py3-none-any.whl.metadata (3.9 kB)\n",
      "Collecting pyro-ppl>=1.3.1 (from sbi)\n",
      "  Using cached pyro_ppl-1.9.1-py3-none-any.whl.metadata (7.8 kB)\n",
      "Requirement already satisfied: scikit-learn in /opt/anaconda3/lib/python3.12/site-packages (from sbi) (1.5.1)\n",
      "Collecting scipy<1.13 (from sbi)\n",
      "  Downloading scipy-1.12.0-cp312-cp312-macosx_12_0_arm64.whl.metadata (217 kB)\n",
      "Collecting tensorboard (from sbi)\n",
      "  Using cached tensorboard-2.18.0-py3-none-any.whl.metadata (1.6 kB)\n",
      "Collecting torch>=1.13.0 (from sbi)\n",
      "  Downloading torch-2.6.0-cp312-none-macosx_11_0_arm64.whl.metadata (28 kB)\n",
      "Requirement already satisfied: tqdm in /opt/anaconda3/lib/python3.12/site-packages (from sbi) (4.66.5)\n",
      "Collecting pymc>=5.0.0 (from sbi)\n",
      "  Downloading pymc-5.20.0-py3-none-any.whl.metadata (15 kB)\n",
      "Collecting zuko>=1.2.0 (from sbi)\n",
      "  Using cached zuko-1.3.1-py3-none-any.whl.metadata (5.9 kB)\n",
      "Requirement already satisfied: jinja2 in /opt/anaconda3/lib/python3.12/site-packages (from notebook<=6.4.12->sbi) (3.1.4)\n",
      "Requirement already satisfied: tornado>=6.1 in /opt/anaconda3/lib/python3.12/site-packages (from notebook<=6.4.12->sbi) (6.4.1)\n",
      "Requirement already satisfied: pyzmq>=17 in /opt/anaconda3/lib/python3.12/site-packages (from notebook<=6.4.12->sbi) (25.1.2)\n",
      "Requirement already satisfied: argon2-cffi in /opt/anaconda3/lib/python3.12/site-packages (from notebook<=6.4.12->sbi) (21.3.0)\n",
      "Requirement already satisfied: traitlets>=4.2.1 in /opt/anaconda3/lib/python3.12/site-packages (from notebook<=6.4.12->sbi) (5.14.3)\n",
      "Requirement already satisfied: jupyter-core>=4.6.1 in /opt/anaconda3/lib/python3.12/site-packages (from notebook<=6.4.12->sbi) (5.7.2)\n",
      "Requirement already satisfied: jupyter-client>=5.3.4 in /opt/anaconda3/lib/python3.12/site-packages (from notebook<=6.4.12->sbi) (8.6.0)\n",
      "Requirement already satisfied: ipython-genutils in /opt/anaconda3/lib/python3.12/site-packages (from notebook<=6.4.12->sbi) (0.2.0)\n",
      "Requirement already satisfied: nbformat in /opt/anaconda3/lib/python3.12/site-packages (from notebook<=6.4.12->sbi) (5.10.4)\n",
      "Requirement already satisfied: nbconvert>=5 in /opt/anaconda3/lib/python3.12/site-packages (from notebook<=6.4.12->sbi) (7.16.4)\n",
      "Requirement already satisfied: nest-asyncio>=1.5 in /opt/anaconda3/lib/python3.12/site-packages (from notebook<=6.4.12->sbi) (1.6.0)\n",
      "Requirement already satisfied: ipykernel in /opt/anaconda3/lib/python3.12/site-packages (from notebook<=6.4.12->sbi) (6.28.0)\n",
      "Requirement already satisfied: Send2Trash>=1.8.0 in /opt/anaconda3/lib/python3.12/site-packages (from notebook<=6.4.12->sbi) (1.8.2)\n",
      "Requirement already satisfied: terminado>=0.8.3 in /opt/anaconda3/lib/python3.12/site-packages (from notebook<=6.4.12->sbi) (0.17.1)\n",
      "Requirement already satisfied: prometheus-client in /opt/anaconda3/lib/python3.12/site-packages (from notebook<=6.4.12->sbi) (0.14.1)\n",
      "Collecting nflows==0.14 (from pyknos>=0.16.0->sbi)\n",
      "  Using cached nflows-0.14.tar.gz (45 kB)\n",
      "  Preparing metadata (setup.py) ... \u001b[?25ldone\n",
      "\u001b[?25hRequirement already satisfied: cachetools>=4.2.1 in /opt/anaconda3/lib/python3.12/site-packages (from pymc>=5.0.0->sbi) (5.3.3)\n",
      "Requirement already satisfied: cloudpickle in /opt/anaconda3/lib/python3.12/site-packages (from pymc>=5.0.0->sbi) (3.0.0)\n",
      "Requirement already satisfied: pandas>=0.24.0 in /opt/anaconda3/lib/python3.12/site-packages (from pymc>=5.0.0->sbi) (2.2.2)\n",
      "Collecting pytensor<2.27,>=2.26.1 (from pymc>=5.0.0->sbi)\n",
      "  Downloading pytensor-2.26.4-py2.py3-none-any.whl.metadata (9.9 kB)\n",
      "Requirement already satisfied: rich>=13.7.1 in /opt/anaconda3/lib/python3.12/site-packages (from pymc>=5.0.0->sbi) (13.7.1)\n",
      "Requirement already satisfied: threadpoolctl<4.0.0,>=3.1.0 in /opt/anaconda3/lib/python3.12/site-packages (from pymc>=5.0.0->sbi) (3.5.0)\n",
      "Requirement already satisfied: typing-extensions>=3.7.4 in /opt/anaconda3/lib/python3.12/site-packages (from pymc>=5.0.0->sbi) (4.11.0)\n",
      "Requirement already satisfied: setuptools>=60.0.0 in /opt/anaconda3/lib/python3.12/site-packages (from arviz->sbi) (75.1.0)\n",
      "Requirement already satisfied: packaging in /opt/anaconda3/lib/python3.12/site-packages (from arviz->sbi) (24.1)\n",
      "Requirement already satisfied: xarray>=2022.6.0 in /opt/anaconda3/lib/python3.12/site-packages (from arviz->sbi) (2023.6.0)\n",
      "Collecting h5netcdf>=1.0.2 (from arviz->sbi)\n",
      "  Downloading h5netcdf-1.5.0-py3-none-any.whl.metadata (13 kB)\n",
      "Collecting xarray-einstats>=0.3 (from arviz->sbi)\n",
      "  Using cached xarray_einstats-0.8.0-py3-none-any.whl.metadata (5.8 kB)\n",
      "Requirement already satisfied: contourpy>=1.0.1 in /opt/anaconda3/lib/python3.12/site-packages (from matplotlib->sbi) (1.2.0)\n",
      "Requirement already satisfied: cycler>=0.10 in /opt/anaconda3/lib/python3.12/site-packages (from matplotlib->sbi) (0.11.0)\n",
      "Requirement already satisfied: fonttools>=4.22.0 in /opt/anaconda3/lib/python3.12/site-packages (from matplotlib->sbi) (4.51.0)\n",
      "Requirement already satisfied: kiwisolver>=1.3.1 in /opt/anaconda3/lib/python3.12/site-packages (from matplotlib->sbi) (1.4.4)\n",
      "Requirement already satisfied: pyparsing>=2.3.1 in /opt/anaconda3/lib/python3.12/site-packages (from matplotlib->sbi) (3.1.2)\n",
      "Requirement already satisfied: python-dateutil>=2.7 in /opt/anaconda3/lib/python3.12/site-packages (from matplotlib->sbi) (2.9.0.post0)\n",
      "Collecting opt-einsum>=2.3.2 (from pyro-ppl>=1.3.1->sbi)\n",
      "  Using cached opt_einsum-3.4.0-py3-none-any.whl.metadata (6.3 kB)\n",
      "Collecting pyro-api>=0.1.1 (from pyro-ppl>=1.3.1->sbi)\n",
      "  Using cached pyro_api-0.1.2-py3-none-any.whl.metadata (2.5 kB)\n",
      "Requirement already satisfied: filelock in /opt/anaconda3/lib/python3.12/site-packages (from torch>=1.13.0->sbi) (3.13.1)\n",
      "Requirement already satisfied: networkx in /opt/anaconda3/lib/python3.12/site-packages (from torch>=1.13.0->sbi) (3.3)\n",
      "Requirement already satisfied: fsspec in /opt/anaconda3/lib/python3.12/site-packages (from torch>=1.13.0->sbi) (2024.6.1)\n",
      "Collecting sympy==1.13.1 (from torch>=1.13.0->sbi)\n",
      "  Using cached sympy-1.13.1-py3-none-any.whl.metadata (12 kB)\n",
      "Requirement already satisfied: mpmath<1.4,>=1.1.0 in /opt/anaconda3/lib/python3.12/site-packages (from sympy==1.13.1->torch>=1.13.0->sbi) (1.3.0)\n",
      "Collecting absl-py>=0.4 (from tensorboard->sbi)\n",
      "  Using cached absl_py-2.1.0-py3-none-any.whl.metadata (2.3 kB)\n",
      "Collecting grpcio>=1.48.2 (from tensorboard->sbi)\n",
      "  Downloading grpcio-1.70.0-cp312-cp312-macosx_10_14_universal2.whl.metadata (3.9 kB)\n",
      "Requirement already satisfied: markdown>=2.6.8 in /opt/anaconda3/lib/python3.12/site-packages (from tensorboard->sbi) (3.4.1)\n",
      "Requirement already satisfied: protobuf!=4.24.0,>=3.19.6 in /opt/anaconda3/lib/python3.12/site-packages (from tensorboard->sbi) (4.25.3)\n",
      "Requirement already satisfied: six>1.9 in /opt/anaconda3/lib/python3.12/site-packages (from tensorboard->sbi) (1.16.0)\n",
      "Collecting tensorboard-data-server<0.8.0,>=0.7.0 (from tensorboard->sbi)\n",
      "  Using cached tensorboard_data_server-0.7.2-py3-none-any.whl.metadata (1.1 kB)\n",
      "Requirement already satisfied: werkzeug>=1.0.1 in /opt/anaconda3/lib/python3.12/site-packages (from tensorboard->sbi) (3.0.3)\n",
      "Requirement already satisfied: h5py in /opt/anaconda3/lib/python3.12/site-packages (from h5netcdf>=1.0.2->arviz->sbi) (3.12.1)\n",
      "Requirement already satisfied: platformdirs>=2.5 in /opt/anaconda3/lib/python3.12/site-packages (from jupyter-core>=4.6.1->notebook<=6.4.12->sbi) (3.10.0)\n",
      "Requirement already satisfied: beautifulsoup4 in /opt/anaconda3/lib/python3.12/site-packages (from nbconvert>=5->notebook<=6.4.12->sbi) (4.12.3)\n",
      "Requirement already satisfied: bleach!=5.0.0 in /opt/anaconda3/lib/python3.12/site-packages (from nbconvert>=5->notebook<=6.4.12->sbi) (4.1.0)\n",
      "Requirement already satisfied: defusedxml in /opt/anaconda3/lib/python3.12/site-packages (from nbconvert>=5->notebook<=6.4.12->sbi) (0.7.1)\n",
      "Requirement already satisfied: jupyterlab-pygments in /opt/anaconda3/lib/python3.12/site-packages (from nbconvert>=5->notebook<=6.4.12->sbi) (0.1.2)\n",
      "Requirement already satisfied: markupsafe>=2.0 in /opt/anaconda3/lib/python3.12/site-packages (from nbconvert>=5->notebook<=6.4.12->sbi) (2.1.3)\n",
      "Requirement already satisfied: mistune<4,>=2.0.3 in /opt/anaconda3/lib/python3.12/site-packages (from nbconvert>=5->notebook<=6.4.12->sbi) (2.0.4)\n",
      "Requirement already satisfied: nbclient>=0.5.0 in /opt/anaconda3/lib/python3.12/site-packages (from nbconvert>=5->notebook<=6.4.12->sbi) (0.8.0)\n",
      "Requirement already satisfied: pandocfilters>=1.4.1 in /opt/anaconda3/lib/python3.12/site-packages (from nbconvert>=5->notebook<=6.4.12->sbi) (1.5.0)\n",
      "Requirement already satisfied: pygments>=2.4.1 in /opt/anaconda3/lib/python3.12/site-packages (from nbconvert>=5->notebook<=6.4.12->sbi) (2.15.1)\n",
      "Requirement already satisfied: tinycss2 in /opt/anaconda3/lib/python3.12/site-packages (from nbconvert>=5->notebook<=6.4.12->sbi) (1.2.1)\n",
      "Requirement already satisfied: fastjsonschema>=2.15 in /opt/anaconda3/lib/python3.12/site-packages (from nbformat->notebook<=6.4.12->sbi) (2.16.2)\n",
      "Requirement already satisfied: jsonschema>=2.6 in /opt/anaconda3/lib/python3.12/site-packages (from nbformat->notebook<=6.4.12->sbi) (4.23.0)\n",
      "Requirement already satisfied: pytz>=2020.1 in /opt/anaconda3/lib/python3.12/site-packages (from pandas>=0.24.0->pymc>=5.0.0->sbi) (2024.1)\n",
      "Requirement already satisfied: tzdata>=2022.7 in /opt/anaconda3/lib/python3.12/site-packages (from pandas>=0.24.0->pymc>=5.0.0->sbi) (2023.3)\n",
      "Collecting filelock (from torch>=1.13.0->sbi)\n",
      "  Downloading filelock-3.17.0-py3-none-any.whl.metadata (2.9 kB)\n",
      "Collecting etuples (from pytensor<2.27,>=2.26.1->pymc>=5.0.0->sbi)\n",
      "  Using cached etuples-0.3.9.tar.gz (30 kB)\n",
      "  Preparing metadata (setup.py) ... \u001b[?25ldone\n",
      "\u001b[?25hCollecting logical-unification (from pytensor<2.27,>=2.26.1->pymc>=5.0.0->sbi)\n",
      "  Using cached logical-unification-0.4.6.tar.gz (31 kB)\n",
      "  Preparing metadata (setup.py) ... \u001b[?25ldone\n",
      "\u001b[?25hCollecting miniKanren (from pytensor<2.27,>=2.26.1->pymc>=5.0.0->sbi)\n",
      "  Using cached miniKanren-1.0.3.tar.gz (41 kB)\n",
      "  Preparing metadata (setup.py) ... \u001b[?25ldone\n",
      "\u001b[?25hCollecting cons (from pytensor<2.27,>=2.26.1->pymc>=5.0.0->sbi)\n",
      "  Using cached cons-0.4.6.tar.gz (26 kB)\n",
      "  Preparing metadata (setup.py) ... \u001b[?25ldone\n",
      "\u001b[?25hRequirement already satisfied: markdown-it-py>=2.2.0 in /opt/anaconda3/lib/python3.12/site-packages (from rich>=13.7.1->pymc>=5.0.0->sbi) (2.2.0)\n",
      "Requirement already satisfied: ptyprocess in /opt/anaconda3/lib/python3.12/site-packages (from terminado>=0.8.3->notebook<=6.4.12->sbi) (0.7.0)\n",
      "Requirement already satisfied: argon2-cffi-bindings in /opt/anaconda3/lib/python3.12/site-packages (from argon2-cffi->notebook<=6.4.12->sbi) (21.2.0)\n",
      "Requirement already satisfied: appnope in /opt/anaconda3/lib/python3.12/site-packages (from ipykernel->notebook<=6.4.12->sbi) (0.1.3)\n",
      "Requirement already satisfied: comm>=0.1.1 in /opt/anaconda3/lib/python3.12/site-packages (from ipykernel->notebook<=6.4.12->sbi) (0.2.1)\n",
      "Requirement already satisfied: debugpy>=1.6.5 in /opt/anaconda3/lib/python3.12/site-packages (from ipykernel->notebook<=6.4.12->sbi) (1.6.7)\n",
      "Requirement already satisfied: ipython>=7.23.1 in /opt/anaconda3/lib/python3.12/site-packages (from ipykernel->notebook<=6.4.12->sbi) (8.27.0)\n",
      "Requirement already satisfied: matplotlib-inline>=0.1 in /opt/anaconda3/lib/python3.12/site-packages (from ipykernel->notebook<=6.4.12->sbi) (0.1.6)\n",
      "Requirement already satisfied: psutil in /opt/anaconda3/lib/python3.12/site-packages (from ipykernel->notebook<=6.4.12->sbi) (5.9.0)\n",
      "Requirement already satisfied: webencodings in /opt/anaconda3/lib/python3.12/site-packages (from bleach!=5.0.0->nbconvert>=5->notebook<=6.4.12->sbi) (0.5.1)\n",
      "Requirement already satisfied: decorator in /opt/anaconda3/lib/python3.12/site-packages (from ipython>=7.23.1->ipykernel->notebook<=6.4.12->sbi) (5.1.1)\n",
      "Requirement already satisfied: jedi>=0.16 in /opt/anaconda3/lib/python3.12/site-packages (from ipython>=7.23.1->ipykernel->notebook<=6.4.12->sbi) (0.19.1)\n",
      "Requirement already satisfied: prompt-toolkit<3.1.0,>=3.0.41 in /opt/anaconda3/lib/python3.12/site-packages (from ipython>=7.23.1->ipykernel->notebook<=6.4.12->sbi) (3.0.43)\n",
      "Requirement already satisfied: stack-data in /opt/anaconda3/lib/python3.12/site-packages (from ipython>=7.23.1->ipykernel->notebook<=6.4.12->sbi) (0.2.0)\n",
      "Requirement already satisfied: pexpect>4.3 in /opt/anaconda3/lib/python3.12/site-packages (from ipython>=7.23.1->ipykernel->notebook<=6.4.12->sbi) (4.8.0)\n",
      "Requirement already satisfied: attrs>=22.2.0 in /opt/anaconda3/lib/python3.12/site-packages (from jsonschema>=2.6->nbformat->notebook<=6.4.12->sbi) (23.1.0)\n",
      "Requirement already satisfied: jsonschema-specifications>=2023.03.6 in /opt/anaconda3/lib/python3.12/site-packages (from jsonschema>=2.6->nbformat->notebook<=6.4.12->sbi) (2023.7.1)\n",
      "Requirement already satisfied: referencing>=0.28.4 in /opt/anaconda3/lib/python3.12/site-packages (from jsonschema>=2.6->nbformat->notebook<=6.4.12->sbi) (0.30.2)\n",
      "Requirement already satisfied: rpds-py>=0.7.1 in /opt/anaconda3/lib/python3.12/site-packages (from jsonschema>=2.6->nbformat->notebook<=6.4.12->sbi) (0.10.6)\n",
      "Requirement already satisfied: mdurl~=0.1 in /opt/anaconda3/lib/python3.12/site-packages (from markdown-it-py>=2.2.0->rich>=13.7.1->pymc>=5.0.0->sbi) (0.1.0)\n",
      "Requirement already satisfied: cffi>=1.0.1 in /opt/anaconda3/lib/python3.12/site-packages (from argon2-cffi-bindings->argon2-cffi->notebook<=6.4.12->sbi) (1.17.1)\n",
      "Requirement already satisfied: soupsieve>1.2 in /opt/anaconda3/lib/python3.12/site-packages (from beautifulsoup4->nbconvert>=5->notebook<=6.4.12->sbi) (2.5)\n",
      "Requirement already satisfied: toolz in /opt/anaconda3/lib/python3.12/site-packages (from logical-unification->pytensor<2.27,>=2.26.1->pymc>=5.0.0->sbi) (0.12.0)\n",
      "Requirement already satisfied: multipledispatch in /opt/anaconda3/lib/python3.12/site-packages (from logical-unification->pytensor<2.27,>=2.26.1->pymc>=5.0.0->sbi) (0.6.0)\n",
      "Requirement already satisfied: pycparser in /opt/anaconda3/lib/python3.12/site-packages (from cffi>=1.0.1->argon2-cffi-bindings->argon2-cffi->notebook<=6.4.12->sbi) (2.21)\n",
      "Requirement already satisfied: parso<0.9.0,>=0.8.3 in /opt/anaconda3/lib/python3.12/site-packages (from jedi>=0.16->ipython>=7.23.1->ipykernel->notebook<=6.4.12->sbi) (0.8.3)\n",
      "Requirement already satisfied: wcwidth in /opt/anaconda3/lib/python3.12/site-packages (from prompt-toolkit<3.1.0,>=3.0.41->ipython>=7.23.1->ipykernel->notebook<=6.4.12->sbi) (0.2.5)\n",
      "Requirement already satisfied: executing in /opt/anaconda3/lib/python3.12/site-packages (from stack-data->ipython>=7.23.1->ipykernel->notebook<=6.4.12->sbi) (0.8.3)\n",
      "Requirement already satisfied: asttokens in /opt/anaconda3/lib/python3.12/site-packages (from stack-data->ipython>=7.23.1->ipykernel->notebook<=6.4.12->sbi) (2.0.5)\n",
      "Requirement already satisfied: pure-eval in /opt/anaconda3/lib/python3.12/site-packages (from stack-data->ipython>=7.23.1->ipykernel->notebook<=6.4.12->sbi) (0.2.2)\n",
      "Downloading sbi-0.23.3-py3-none-any.whl (365 kB)\n",
      "Downloading notebook-6.4.12-py3-none-any.whl (9.9 MB)\n",
      "\u001b[2K   \u001b[90m━━━━━━━━━━━━━━━━━━━━━━━━━━━━━━━━━━━━━━━━\u001b[0m \u001b[32m9.9/9.9 MB\u001b[0m \u001b[31m1.8 MB/s\u001b[0m eta \u001b[36m0:00:00\u001b[0m00:01\u001b[0m00:01\u001b[0m\n",
      "\u001b[?25hUsing cached pyknos-0.16.0-py3-none-any.whl (13 kB)\n",
      "Downloading pymc-5.20.0-py3-none-any.whl (502 kB)\n",
      "Using cached arviz-0.20.0-py3-none-any.whl (1.7 MB)\n",
      "Using cached pyro_ppl-1.9.1-py3-none-any.whl (755 kB)\n",
      "Downloading scipy-1.12.0-cp312-cp312-macosx_12_0_arm64.whl (31.4 MB)\n",
      "\u001b[2K   \u001b[90m━━━━━━━━━━━━━━━━━━━━━━━━━━━━━━━━━━━━━━━━\u001b[0m \u001b[32m31.4/31.4 MB\u001b[0m \u001b[31m2.1 MB/s\u001b[0m eta \u001b[36m0:00:00\u001b[0m00:01\u001b[0m00:01\u001b[0mm\n",
      "\u001b[?25hDownloading torch-2.6.0-cp312-none-macosx_11_0_arm64.whl (66.5 MB)\n",
      "\u001b[2K   \u001b[90m━━━━━━━━━━━━━━━━━━━━━━━━━━━━━━━━━━━━━━━━\u001b[0m \u001b[32m66.5/66.5 MB\u001b[0m \u001b[31m2.0 MB/s\u001b[0m eta \u001b[36m0:00:00\u001b[0m00:01\u001b[0m00:01\u001b[0m\n",
      "\u001b[?25hUsing cached sympy-1.13.1-py3-none-any.whl (6.2 MB)\n",
      "Using cached zuko-1.3.1-py3-none-any.whl (42 kB)\n",
      "Using cached tensorboard-2.18.0-py3-none-any.whl (5.5 MB)\n",
      "Using cached absl_py-2.1.0-py3-none-any.whl (133 kB)\n",
      "Downloading grpcio-1.70.0-cp312-cp312-macosx_10_14_universal2.whl (11.4 MB)\n",
      "\u001b[2K   \u001b[90m━━━━━━━━━━━━━━━━━━━━━━━━━━━━━━━━━━━━━━━━\u001b[0m \u001b[32m11.4/11.4 MB\u001b[0m \u001b[31m1.5 MB/s\u001b[0m eta \u001b[36m0:00:00\u001b[0m00:01\u001b[0m00:01\u001b[0m\n",
      "\u001b[?25hDownloading h5netcdf-1.5.0-py3-none-any.whl (49 kB)\n",
      "Using cached opt_einsum-3.4.0-py3-none-any.whl (71 kB)\n",
      "Using cached pyro_api-0.1.2-py3-none-any.whl (11 kB)\n",
      "Downloading pytensor-2.26.4-py2.py3-none-any.whl (1.2 MB)\n",
      "\u001b[2K   \u001b[90m━━━━━━━━━━━━━━━━━━━━━━━━━━━━━━━━━━━━━━━━\u001b[0m \u001b[32m1.2/1.2 MB\u001b[0m \u001b[31m2.5 MB/s\u001b[0m eta \u001b[36m0:00:00\u001b[0ma \u001b[36m0:00:01\u001b[0m\n",
      "\u001b[?25hDownloading filelock-3.17.0-py3-none-any.whl (16 kB)\n",
      "Using cached tensorboard_data_server-0.7.2-py3-none-any.whl (2.4 kB)\n",
      "Using cached xarray_einstats-0.8.0-py3-none-any.whl (32 kB)\n",
      "Building wheels for collected packages: nflows, cons, logical-unification, etuples, miniKanren\n",
      "  Building wheel for nflows (setup.py) ... \u001b[?25ldone\n",
      "\u001b[?25h  Created wheel for nflows: filename=nflows-0.14-py3-none-any.whl size=53654 sha256=abc19e95d767610c7021258397ec6583bb3bd2cd242ee041a7c974b902776870\n",
      "  Stored in directory: /Users/16/Library/Caches/pip/wheels/fd/27/c3/8952205ea17b63dc1eaa24031e63111c6a3661cb22cc1e2a3c\n",
      "  Building wheel for cons (setup.py) ... \u001b[?25ldone\n",
      "\u001b[?25h  Created wheel for cons: filename=cons-0.4.6-py3-none-any.whl size=9094 sha256=4535474adf0f6680425b6cf19de0789ccba3819e9ebcc07d0f29fce2ca6825f9\n",
      "  Stored in directory: /Users/16/Library/Caches/pip/wheels/91/0c/f7/7ba4ffbf0db6bf272bee59789131f6ec2d26966307a3054267\n",
      "  Building wheel for logical-unification (setup.py) ... \u001b[?25ldone\n",
      "\u001b[?25h  Created wheel for logical-unification: filename=logical_unification-0.4.6-py3-none-any.whl size=13912 sha256=dc3400922ae594808b10907cd931ffb1b8626140f7d3b1920fdec22e783b578b\n",
      "  Stored in directory: /Users/16/Library/Caches/pip/wheels/4b/07/cf/3fdaedafc40d7b1861c98be0df1bf3b2b3e87e03187fa95298\n",
      "  Building wheel for etuples (setup.py) ... \u001b[?25ldone\n",
      "\u001b[?25h  Created wheel for etuples: filename=etuples-0.3.9-py3-none-any.whl size=12619 sha256=8ea269ec49be3c43b03cffe0163890e693d083f8e6ba13ff5952178854456f97\n",
      "  Stored in directory: /Users/16/Library/Caches/pip/wheels/9e/ea/42/9562f37ce4e92913b74da9bcd504a749f0bf5d42d1d148ca76\n",
      "  Building wheel for miniKanren (setup.py) ... \u001b[?25ldone\n",
      "\u001b[?25h  Created wheel for miniKanren: filename=miniKanren-1.0.3-py3-none-any.whl size=23908 sha256=a021989c9df914323d988f12cd0fb97346087f9d4d0e8369c38c9ef455bb9139\n",
      "  Stored in directory: /Users/16/Library/Caches/pip/wheels/57/48/e3/441a42666f9a4ac9ccb6897d6046d81cf970c986be39938c6e\n",
      "Successfully built nflows cons logical-unification etuples miniKanren\n",
      "Installing collected packages: pyro-api, tensorboard-data-server, sympy, scipy, opt-einsum, grpcio, filelock, absl-py, torch, tensorboard, logical-unification, h5netcdf, zuko, pyro-ppl, nflows, cons, xarray-einstats, pyknos, etuples, miniKanren, arviz, pytensor, pymc, notebook, sbi\n",
      "  Attempting uninstall: sympy\n",
      "    Found existing installation: sympy 1.13.2\n",
      "    Uninstalling sympy-1.13.2:\n",
      "      Successfully uninstalled sympy-1.13.2\n",
      "  Attempting uninstall: scipy\n",
      "    Found existing installation: scipy 1.13.1\n",
      "    Uninstalling scipy-1.13.1:\n",
      "      Successfully uninstalled scipy-1.13.1\n",
      "  Attempting uninstall: filelock\n",
      "    Found existing installation: filelock 3.13.1\n",
      "    Uninstalling filelock-3.13.1:\n",
      "      Successfully uninstalled filelock-3.13.1\n",
      "  Attempting uninstall: notebook\n",
      "    Found existing installation: notebook 7.2.2\n",
      "    Uninstalling notebook-7.2.2:\n",
      "      Successfully uninstalled notebook-7.2.2\n",
      "Successfully installed absl-py-2.1.0 arviz-0.20.0 cons-0.4.6 etuples-0.3.9 filelock-3.17.0 grpcio-1.70.0 h5netcdf-1.5.0 logical-unification-0.4.6 miniKanren-1.0.3 nflows-0.14 notebook-6.4.12 opt-einsum-3.4.0 pyknos-0.16.0 pymc-5.20.0 pyro-api-0.1.2 pyro-ppl-1.9.1 pytensor-2.26.4 sbi-0.23.3 scipy-1.12.0 sympy-1.13.1 tensorboard-2.18.0 tensorboard-data-server-0.7.2 torch-2.6.0 xarray-einstats-0.8.0 zuko-1.3.1\n"
     ]
    }
   ],
   "source": [
    "! pip install sbi\n",
    "\n",
    "import torch\n",
    "\n",
    "from sbi.inference import NPSE\n",
    "from sbi.utils import BoxUniform\n",
    "from sbi.analysis import pairplot\n",
    "from sbi.utils.user_input_checks import (\n",
    "    check_sbi_inputs,\n",
    "    process_prior,\n",
    "    process_simulator,\n",
    ")"
   ]
  },
  {
   "cell_type": "code",
   "execution_count": 42,
   "metadata": {},
   "outputs": [],
   "source": [
    "num_dim = 2\n",
    "\n",
    "def sample_model_parameters():\n",
    "    # Sample from distributions\n",
    "    G_frame = torch.normal(8.5, 0.3, size=(1,))  # Normal distribution for G_frame\n",
    "    poro = torch.normal(0.37, 0.02, size=(1,))   # Normal distribution for porosity\n",
    "    rho_grain = torch.normal(44.8, 0.8, size=(1,))  # Normal distribution for rho_grain\n",
    "\n",
    "    # Combine into a vector\n",
    "    m = torch.cat((G_frame, poro, rho_grain))\n",
    "    return m\n",
    "\n",
    "def simulator(theta):\n",
    "    max_attempts = 1000  # Set the maximum number of attempts to find valid parameters\n",
    "    #print(theta.shape)\n",
    "    for attempt in range(max_attempts):\n",
    "        m = sample_model_parameters()  # Resample `m` each attempt for independence\n",
    "\n",
    "        # Calculate the denominator\n",
    "        denominator = (theta * (1 - m[1])) + (m[1] * m[2])\n",
    "\n",
    "        # Check if all values in denominator are positive\n",
    "        if torch.all(denominator > 0):\n",
    "            # Valid denominator found, compute simulated data\n",
    "            simulated_data = torch.sqrt(m[0] / denominator)\n",
    "            return simulated_data.view(2)\n",
    "        else:\n",
    "            # Debug: Print values if denominator is invalid\n",
    "            print(f\"Attempt {attempt + 1}: Invalid denominator values {denominator}\")\n",
    "            #print(f\"theta = {theta}, m[0] = {m[0]}, m[1] = {m[1]}, m[2] = {m[2]}\")\n",
    "\n",
    "    # If all attempts failed, return NaNs and print a debug message\n",
    "    print(\"Warning: All attempts to find a valid denominator failed.\")\n",
    "    return torch.tensor([float('nan'), float('nan')])\n",
    "\n",
    "# def simulator(x):\n",
    "#     \"\"\"\n",
    "#     Forward model with resampling of parameters until all denominator values > 0.\n",
    "\n",
    "#     Args:\n",
    "#         x (torch.Tensor): Input tensor for the model.\n",
    "#         max_attempts (int): Maximum attempts to resample valid parameters (unused here but kept for compatibility).\n",
    "\n",
    "#     Returns:\n",
    "#         torch.Tensor: Synthetic data, with NaN if denominator is invalid.\n",
    "#     \"\"\"\n",
    "#     # Initialize synthetic values\n",
    "#     synthetic_value = torch.zeros_like(x)  # Placeholder for synthetic values\n",
    "\n",
    "#     # Fixed deterministic parameters\n",
    "#     G_frame_values = torch.tensor([7.994777040351033, 7.997586766477148], device=x.device)\n",
    "#     poro = 0.3700000000000001\n",
    "#     rho_grain = 44.8\n",
    "\n",
    "#     # Iterate over each element in x\n",
    "#     for i in range(x.size(0)):\n",
    "#         # Use modulo to wrap around G_frame_values if x has more elements\n",
    "#         G_frame = G_frame_values[i % len(G_frame_values)]\n",
    "\n",
    "#         # Compute the denominator\n",
    "#         denominator = (x[i] * (1 - poro)) + (poro * rho_grain)\n",
    "\n",
    "\n",
    "#         synthetic_value[i] = torch.sqrt(G_frame / denominator)\n",
    "\n",
    "#     return synthetic_value\n",
    "\n",
    "\n",
    "\n",
    "# Define the prior\n",
    "prior = BoxUniform(low=0.01 * torch.ones(num_dim), high=10 * torch.ones(num_dim))\n",
    "\n",
    "# Check prior, return PyTorch prior.\n",
    "prior, num_parameters, prior_returns_numpy = process_prior(prior)\n",
    "\n",
    "# Check simulator, returns PyTorch simulator able to simulate batches.\n",
    "simulator = process_simulator(simulator, prior, prior_returns_numpy)\n",
    "\n",
    "# Consistency check after making ready for sbi.\n",
    "check_sbi_inputs(simulator, prior)"
   ]
  },
  {
   "cell_type": "code",
   "execution_count": 43,
   "metadata": {},
   "outputs": [
    {
     "name": "stdout",
     "output_type": "stream",
     "text": [
      "tensor([[0.6755, 0.7101],\n",
      "        [0.6919, 0.6112],\n",
      "        [0.6347, 0.6060],\n",
      "        ...,\n",
      "        [0.7311, 0.7276],\n",
      "        [0.6917, 0.6141],\n",
      "        [0.6968, 0.6833]])\n"
     ]
    }
   ],
   "source": [
    "# Example toy simulator\n",
    "# Define the prior\n",
    "num_dims = 2\n",
    "num_sims = 2000\n",
    "#prior = BoxUniform(low=-torch.ones(num_dims), high=torch.ones(num_dims))\n",
    "\n",
    "# def simulator(theta):\n",
    "#     \"\"\"Linear gaussian simulator.\"\"\"\n",
    "#     return theta + 1.0 + torch.randn_like(theta) * 0.1\n",
    "\n",
    "# Produce simulations\n",
    "theta = prior.sample((num_sims,))\n",
    "x = simulator(theta)\n",
    "print(x)\n",
    "\n",
    "# theta_o = torch.zeros(num_dims)\n",
    "# x_o = simulator(theta_o)"
   ]
  },
  {
   "cell_type": "markdown",
   "metadata": {},
   "source": [
    "## FMPE\n",
    "\n",
    "Flow-Matching Posterior Estimation (FMPE) is an approach to Simulation-Based Inference\n",
    "(SBI) that leverages Flow Matching, a generative modeling technique where the\n",
    "transformation from a simple base distribution (like a Gaussian) to the target\n",
    "distribution is learned through matching the flow of probability densities.\n",
    "\n",
    "### Key Concept:\n",
    "- **Flow Matching**: The core idea is to model the probability flow between the base\n",
    "  distribution and the target distribution by minimizing a discrepancy between their\n",
    "  \"flows\" or \"dynamics\" in the latent space. This is typically done by training a neural\n",
    "  network to parameterize a vector field that defines how samples should be moved or\n",
    "  transformed in order to follow the target distribution.\n",
    "\n",
    "### Step-by-Step Process:\n",
    "1. **Base Distribution**: Start with a simple base distribution (e.g., Gaussian).\n",
    "2. **Neural Network Parameterization**: Use a neural network to learn a vector field\n",
    "   that describes the flow from the base distribution to the target distribution.\n",
    "3. **Flow Matching Objective**: Optimize the neural network to minimize a loss function\n",
    "   that captures the difference between the flow of the base distribution and the target\n",
    "   distribution.\n",
    "4. **Sampling**: Once trained, draw samples from the base distribution and apply the\n",
    "   learned flow transformation to obtain samples from the approximate posterior\n",
    "   distribution.\n",
    "\n",
    "FMPE can be more efficient than traditional normalizing flows in some settings,\n",
    "especially when the target distribution has complex structures or when high-dimensional\n",
    "data is involved (see Dax et al., 2023, https://arxiv.org/abs/2305.17161 for an\n",
    "example). However, compared to (discrete time) normalizing flows, flow matching is\n",
    "usually slower at inference time because sampling and evaluation of the target\n",
    "distribution requires solving the underlying ODE (compared to just doing a NN forward\n",
    "pass for normalizing flows). \n",
    "\n",
    "In the next cell, we'll show how to use FMPE using the `sbi` package.\n",
    "\n"
   ]
  },
  {
   "cell_type": "code",
   "execution_count": 44,
   "metadata": {},
   "outputs": [
    {
     "name": "stdout",
     "output_type": "stream",
     "text": [
      " Neural network successfully converged after 114 epochs."
     ]
    },
    {
     "data": {
      "application/vnd.jupyter.widget-view+json": {
       "model_id": "b44e4b9cb699437389c0c53790700c88",
       "version_major": 2,
       "version_minor": 0
      },
      "text/plain": [
       "Drawing 1000 posterior samples:   0%|          | 0/1000 [00:00<?, ?it/s]"
      ]
     },
     "metadata": {},
     "output_type": "display_data"
    }
   ],
   "source": [
    "from sbi.inference import FMPE\n",
    "from sbi.neural_nets import flowmatching_nn\n",
    "\n",
    "theta_true = torch.tensor([[4, 7]])\n",
    "# generate our observation\n",
    "x_obs = torch.tensor([0.64704126, 0.61732611])  # Provided observed data\n",
    "# the quick way\n",
    "\n",
    "trainer = FMPE(prior)\n",
    "trainer.append_simulations(theta, x).train()\n",
    "posterior = trainer.build_posterior()\n",
    "posterior_samples = posterior.sample((1000,), x_obs)"
   ]
  },
  {
   "cell_type": "code",
   "execution_count": 14,
   "metadata": {},
   "outputs": [
    {
     "name": "stdout",
     "output_type": "stream",
     "text": [
      " Neural network successfully converged after 57 epochs."
     ]
    }
   ],
   "source": [
    "# Set up a custom vector field neural network\n",
    "net_builder = flowmatching_nn(\n",
    "    model=\"resnet\",\n",
    "    num_blocks=3,\n",
    "    hidden_features=24,\n",
    "    # embedding_net=CNNEmbedding  # e.g., for image data.\n",
    ")\n",
    "trainer = FMPE(prior, density_estimator=net_builder)\n",
    "trainer.append_simulations(theta, x).train(training_batch_size=200, learning_rate=5e-4)\n",
    "posterior = trainer.build_posterior()\n"
   ]
  },
  {
   "cell_type": "code",
   "execution_count": 45,
   "metadata": {},
   "outputs": [
    {
     "data": {
      "image/png": "[encoded data removed]",
      "text/plain": [
       "<Figure size 500x500 with 4 Axes>"
      ]
     },
     "metadata": {},
     "output_type": "display_data"
    }
   ],
   "source": [
    "# plot posterior samples\n",
    "fig, ax = pairplot(\n",
    "    posterior_samples, limits=[[0,10], [0,10], [0,10]], figsize=(5, 5),\n",
    "    labels=[r\"$\\theta_1$\", r\"$\\theta_2$\", r\"$\\theta_3$\"],\n",
    "    points=theta_true # add ground truth thetas\n",
    ")"
   ]
  },
  {
   "cell_type": "markdown",
   "metadata": {},
   "source": [
    "---"
   ]
  },
  {
   "cell_type": "markdown",
   "metadata": {},
   "source": [
    "# NPSE\n",
    "NPSE approximates the posterior distribution by learning its score function, i.e., gradient of the log-density, using the denoising score matching loss. The class of generative models is referred to as score-based generative models, with close links to diffusion models.\n",
    "\n",
    "- Score-based generative models have been shown to scale well to very high dimensions (e.g., high-resolutions images), which is particularly useful when the parameter space (and hence, the target posterior) is high-dimensional.\n",
    "- On the other hand, sampling can be slower as it involves solving many steps of the stochastic differential equation for reversing the diffusion process.\n",
    "\n",
    "Note that only the single-round version of NPSE is implemented currently.\n",
    "\n",
    "For more details on score-based generative models, see [Song et al., 2020](https://arxiv.org/abs/2011.13456) (in particular, Figure 1 and 2)."
   ]
  },
  {
   "cell_type": "code",
   "execution_count": 36,
   "metadata": {},
   "outputs": [
    {
     "data": {
      "text/plain": [
       "<sbi.inference.trainers.npse.npse.NPSE at 0x33872dc40>"
      ]
     },
     "execution_count": 36,
     "metadata": {},
     "output_type": "execute_result"
    }
   ],
   "source": [
    "# Instantiate NPSE and append simulations\n",
    "inference = NPSE(prior=prior, sde_type=\"ve\")\n",
    "inference.append_simulations(theta, x)"
   ]
  },
  {
   "cell_type": "markdown",
   "metadata": {},
   "source": [
    "Note the argument `sde_type`, which defines whether the forward diffusion process has a noising schedule that is Variance Exploding (`ve`, i.e., [SMLD](https://proceedings.neurips.cc/paper/2019/hash/3001ef257407d5a371a96dcd947c7d93-Abstract.html?ref=https://githubhelp.com)), Variance Preserving (`vp`, i.e., [DDPM](https://proceedings.neurips.cc/paper/2020/hash/4c5bcfec8584af0d967f1ab10179ca4b-Abstract.html)), or sub-Variance Preserving (`subvp`) in the limit."
   ]
  },
  {
   "cell_type": "code",
   "execution_count": 37,
   "metadata": {},
   "outputs": [
    {
     "name": "stdout",
     "output_type": "stream",
     "text": [
      " Neural network successfully converged after 878 epochs."
     ]
    }
   ],
   "source": [
    "# Train the score estimator\n",
    "score_estimator = inference.train()"
   ]
  },
  {
   "cell_type": "code",
   "execution_count": 40,
   "metadata": {},
   "outputs": [
    {
     "data": {
      "application/vnd.jupyter.widget-view+json": {
       "model_id": "096321758087479392bdf96770d48e11",
       "version_major": 2,
       "version_minor": 0
      },
      "text/plain": [
       "Drawing 10000 posterior samples:   0%|          | 0/499 [00:00<?, ?it/s]"
      ]
     },
     "metadata": {},
     "output_type": "display_data"
    }
   ],
   "source": [
    "# Build the posterior using the trained score estimator, and sample\n",
    "posterior = inference.build_posterior(score_estimator)\n",
    "posterior_samples = posterior.sample((10000,), x=x_obs)"
   ]
  },
  {
   "cell_type": "code",
   "execution_count": 41,
   "metadata": {},
   "outputs": [
    {
     "data": {
      "image/png": "[encoded data removed]",
      "text/plain": [
       "<Figure size 500x500 with 4 Axes>"
      ]
     },
     "metadata": {},
     "output_type": "display_data"
    }
   ],
   "source": [
    "# plot posterior samples\n",
    "fig, ax = pairplot(\n",
    "    posterior_samples, limits=[[0, 10], [0, 10], [0, 10]], figsize=(5, 5),\n",
    "    labels=[r\"$\\theta_1$\", r\"$\\theta_2$\", r\"$\\theta_3$\"],\n",
    "    points=theta_true # add ground truth thetas\n",
    ")"
   ]
  }
 ],
 "metadata": {
  "kernelspec": {
   "display_name": "Python 3 (ipykernel)",
   "language": "python",
   "name": "python3"
  },
  "language_info": {
   "codemirror_mode": {
    "name": "ipython",
    "version": 3
   },
   "file_extension": ".py",
   "mimetype": "text/x-python",
   "name": "python",
   "nbconvert_exporter": "python",
   "pygments_lexer": "ipython3",
   "version": "3.12.7"
  }
 },
 "nbformat": 4,
 "nbformat_minor": 4
}
